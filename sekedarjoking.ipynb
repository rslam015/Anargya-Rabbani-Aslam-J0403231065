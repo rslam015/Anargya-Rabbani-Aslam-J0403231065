{
  "cells": [
    {
      "cell_type": "markdown",
      "metadata": {
        "id": "0E-d5RG_lQD0"
      },
      "source": [
        "NEVER BACKDOWN, NEVER WHAT? NEVER GIVE UP!"
      ]
    },
    {
      "cell_type": "code",
      "execution_count": null,
      "metadata": {
        "id": "wDcK8hLhlDQ0"
      },
      "outputs": [],
      "source": [
        "def sum(a,b):\n",
        "    print(a+b)\n",
        "\n",
        "sum(9,2)\n"
      ]
    },
    {
      "cell_type": "code",
      "execution_count": null,
      "metadata": {
        "id": "LxRm1WbUmF-E"
      },
      "outputs": [],
      "source": [
        "def fun():\n",
        "  print(\"My fun function\")\n",
        "\n",
        "fun()"
      ]
    },
    {
      "cell_type": "code",
      "execution_count": null,
      "metadata": {
        "id": "ekYBOXw5sKLv"
      },
      "outputs": [],
      "source": [
        "from math import pi\n",
        "\n",
        "print(pi)\n"
      ]
    },
    {
      "cell_type": "code",
      "execution_count": null,
      "metadata": {
        "colab": {
          "background_save": true
        },
        "id": "9oav4886pmBI"
      },
      "outputs": [],
      "source": [
        "n_terms = int(input (\"How many terms the user wants to print? \"))\n",
        "\n",
        "# First two terms\n",
        "n_1 = 0\n",
        "n_2 = 1\n",
        "count = 0\n",
        "\n",
        "# Now, we will check if the number of terms is valid or not\n",
        "if n_terms <= 0:\n",
        "    print (\"Please enter a positive integer, the given number is not valid\")\n",
        "# if there is only one term, it will return n_1\n",
        "elif n_terms == 1:\n",
        "    print (\"The Fibonacci sequence of the numbers up to\", n_terms, \": \")\n",
        "    print(n_1)\n",
        "# Then we will generate Fibonacci sequence of number\n",
        "else:\n",
        "    print (\"The fibonacci sequence of the numbers is:\")\n",
        "    while count < n_terms:\n",
        "        print(n_1)\n",
        "        nth = n_1 + n_2\n",
        "       # At last, we will update values\n",
        "        n_1 = n_2\n",
        "        n_2 = nth\n",
        "        count += 1"
      ]
    },
    {
      "cell_type": "code",
      "execution_count": null,
      "metadata": {
        "colab": {
          "background_save": true
        },
        "id": "wjNHWQdjyTp6"
      },
      "outputs": [],
      "source": []
    }
  ],
  "metadata": {
    "colab": {
      "provenance": []
    },
    "kernelspec": {
      "display_name": "Python 3",
      "name": "python3"
    },
    "language_info": {
      "name": "python"
    }
  },
  "nbformat": 4,
  "nbformat_minor": 0
}