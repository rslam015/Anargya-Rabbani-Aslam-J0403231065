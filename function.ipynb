{
  "nbformat": 4,
  "nbformat_minor": 0,
  "metadata": {
    "colab": {
      "provenance": []
    },
    "kernelspec": {
      "name": "python3",
      "display_name": "Python 3"
    },
    "language_info": {
      "name": "python"
    }
  },
  "cells": [
    {
      "cell_type": "code",
      "execution_count": null,
      "metadata": {
        "id": "0biPCjZ-tmEq"
      },
      "outputs": [],
      "source": [
        "def sum(a,b):\n",
        "    print(a+b)\n",
        "\n",
        "sum(9,2)"
      ]
    },
    {
      "cell_type": "code",
      "source": [
        "def fun():\n",
        "  print(\"My fun function\")\n",
        "\n",
        "fun()"
      ],
      "metadata": {
        "id": "C6o9wpZFCkrA"
      },
      "execution_count": null,
      "outputs": []
    },
    {
      "cell_type": "code",
      "source": [
        "# Arguments - Positional\n",
        "def greet(name, greeting):\n",
        "  print(f\"{greeting}, {name}!\")\n",
        "\n",
        "greet(\"Alice\", \"Hello\")"
      ],
      "metadata": {
        "id": "tWyBDMHwCwlF"
      },
      "execution_count": null,
      "outputs": []
    },
    {
      "cell_type": "code",
      "source": [
        "# Arguments - Keyword\n",
        "def greet(name, greeting):\n",
        "  print(f\"{greeting}, {name}!\")\n",
        "\n",
        "greet(greeting=\"Hi\", name=\"Bob\")"
      ],
      "metadata": {
        "id": "jk4mozmeNZuT"
      },
      "execution_count": null,
      "outputs": []
    },
    {
      "cell_type": "code",
      "source": [
        "# Arguments - Default\n",
        "def greet(name, greeting=\"Hello\"):\n",
        "  print(f\"{greeting}, {name}!\")\n",
        "\n",
        "greet(\"Eve\")"
      ],
      "metadata": {
        "id": "qE9G8LHNNZ_d"
      },
      "execution_count": null,
      "outputs": []
    },
    {
      "cell_type": "code",
      "source": [
        "#Arguments - Arbitrary - *args\n",
        "\n",
        "def print_args(*args):\n",
        "  for arg in args:\n",
        "    print(arg)\n",
        "\n",
        "print_args(1, \"apple\", True)    # 1\\n\"apple\"\\nTrue\n"
      ],
      "metadata": {
        "id": "gcyD2-gdNO3n"
      },
      "execution_count": null,
      "outputs": []
    },
    {
      "cell_type": "code",
      "source": [
        "# Arguments - Arbitrary - *kwargs\n",
        "def print_kwargs(**kwargs):\n",
        "  for key, value in kwargs.items():\n",
        "    print(f\"{key}: {value}\")\n",
        "\n",
        "print_kwargs(name=\"Alice\", age=30)    # \"name: Alice\"\\n\"age: 30\""
      ],
      "metadata": {
        "id": "gJmULkhQNmzL"
      },
      "execution_count": null,
      "outputs": []
    },
    {
      "cell_type": "code",
      "source": [
        "# Arguments - Passing Lists/Dictionaries/etc.\n",
        "\n",
        "def print_list(numbers):\n",
        "  for num in numbers:\n",
        "    print(num)\n",
        "\n",
        "print_list([1, 2, 3, 4])        # 1\\n2\\n3\\n4\n",
        "\n",
        "def print_dict(my_dict):\n",
        "  for key, value in my_dict.items():\n",
        "    print(f\"{key}: {value}\")\n",
        "\n",
        "print_dict({\"name\": \"Bob\", \"age\": 25})        # Output: \"name: Bob\"\\n\"age: 25\""
      ],
      "metadata": {
        "id": "6sUdBT2CN3ke"
      },
      "execution_count": null,
      "outputs": []
    },
    {
      "cell_type": "code",
      "source": [
        "# Different argument combinations\n",
        "\n",
        "def f(a, *b, c=6, **d):     # compare it with def f(a, b=6, *c, **d)\n",
        " print(f\"a: {a}\")\n",
        " print(f\"b: {b}\")\n",
        " print(f\"c: {c}\")\n",
        " print(f\"d: {d}\")\n",
        "\n",
        "\n",
        "f(1, 2, 3, x=4, y=5)        # Default used\n",
        "f(1, 2, 3, c=7, x=4, y=5)   # Override default"
      ],
      "metadata": {
        "id": "CQtfT4wnOG7U"
      },
      "execution_count": null,
      "outputs": []
    },
    {
      "cell_type": "code",
      "source": [
        "# Return Statements - Examples 1\n",
        "\n",
        "def add_numbers(a, b):\n",
        " # This function greets the person passed in as a parameter.\n",
        "  result = a+b\n",
        "  return result\n",
        "\n",
        "\n",
        "# Call the function with a return value\n",
        "sum_result = add_numbers(5, 3)\n",
        "print(f\"The sum is: {sum_result}\")"
      ],
      "metadata": {
        "id": "fyj8p7NROY1x"
      },
      "execution_count": null,
      "outputs": []
    },
    {
      "cell_type": "code",
      "source": [
        "# Return Statements - Examples 2\n",
        "\n",
        "def greet(name):\n",
        "\n",
        "#This function greets the person passed in as a parameter.\n",
        "\n",
        "  print(f\"Hello, {name}!\")\n",
        "\n",
        "# Call the function without a return value\n",
        "greet(\"Alice\")"
      ],
      "metadata": {
        "id": "kiHTpMGARYpp"
      },
      "execution_count": null,
      "outputs": []
    },
    {
      "cell_type": "code",
      "source": [
        "# It is executed at runtime\n",
        "\n",
        "'''It means that the creation of a\n",
        "function occurs when the\n",
        "program is running, not during\n",
        "the parsing or compilation.'''\n",
        "\n",
        "def say_hello():\n",
        "  print(\"Hello, World!\")\n",
        "\n",
        "greeting = say_hello      # Assigning the function to a different name\n",
        "greeting()                # Calls the function\n",
        "\n",
        "def say_hello():\n",
        "  print(\"Hello, Python!\")\n",
        "say_hello()               # Calls the updated function\n",
        "\n",
        "\n"
      ],
      "metadata": {
        "id": "o4ThuvdwSD9_"
      },
      "execution_count": null,
      "outputs": []
    },
    {
      "cell_type": "code",
      "source": [
        "def divide_by_zero(a):\n",
        "  return a * 2 / ( a - a ) # this is a bug\n",
        "\n",
        "print(\"After function creation\")\n",
        "\n",
        "# it’s not error until executed:\n",
        "result = divide_by_zero(5) # comment this and see the differences\n",
        "print(\"After function is called/executed\")"
      ],
      "metadata": {
        "id": "8HbvjS_nUpbw"
      },
      "execution_count": null,
      "outputs": []
    },
    {
      "cell_type": "code",
      "source": [],
      "metadata": {
        "id": "zagmAFntU49c"
      },
      "execution_count": null,
      "outputs": []
    }
  ]
}