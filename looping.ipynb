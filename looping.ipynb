{
  "nbformat": 4,
  "nbformat_minor": 0,
  "metadata": {
    "colab": {
      "provenance": [],
      "authorship_tag": "ABX9TyN5tIPxsB0idaEefyI5ZGcs",
      "include_colab_link": true
    },
    "kernelspec": {
      "name": "python3",
      "display_name": "Python 3"
    },
    "language_info": {
      "name": "python"
    }
  },
  "cells": [
    {
      "cell_type": "markdown",
      "metadata": {
        "id": "view-in-github",
        "colab_type": "text"
      },
      "source": [
        "<a href=\"https://colab.research.google.com/github/rslam015/py-task/blob/main/looping.ipynb\" target=\"_parent\"><img src=\"https://colab.research.google.com/assets/colab-badge.svg\" alt=\"Open In Colab\"/></a>"
      ]
    },
    {
      "cell_type": "markdown",
      "source": [
        "### **`While Loop`**"
      ],
      "metadata": {
        "id": "JTNYxkyEfR6v"
      }
    },
    {
      "cell_type": "markdown",
      "source": [
        "###**General format**\n",
        "\n",
        "The **while** statement consists of a header line with a **test condition**, a body of **statements**, and an optional **else** part that is executed if control exits the loop without a break statement being encountered.\n",
        "Python keeps evaluating the test at the top and executing the statements nested in the loop body until the test returns a false value.\n",
        "\n",
        "The **break** and **continue** statements also work to control the loop.\n",
        "\n",
        "\n",
        "\n",
        "```\n",
        "while test :\t\t\t# Loop test\n",
        "\n",
        "  statements\t\t# Loop body\n",
        "  \n",
        "  if test : break \t# Exit loop now, skip else if present\n",
        "  \n",
        "  if test : continue \t# Go to top of loop now, to test1\n",
        "\n",
        "else:\n",
        "\n",
        "statements \t\t# Run if we didn't hit a 'break'\n",
        "```\n",
        "\n",
        "\n"
      ],
      "metadata": {
        "id": "aWBjeGi9X7uT"
      }
    },
    {
      "cell_type": "markdown",
      "source": [
        "###**Iteration variable**\n",
        "\n",
        "Loops (repeated steps) have iteration variables that change each time through a loop.  Often these iteration variables go through a sequence of numbers.\n",
        "\n",
        "\n",
        "\n"
      ],
      "metadata": {
        "id": "PkrKNyq-Yhvc"
      }
    },
    {
      "cell_type": "code",
      "source": [
        "favorites = ['Churros', 'Tiramisú', 'Pudding']\n",
        "\n",
        "count = 0\t\t# count is iteration variable\n",
        "\n",
        "while count < len(favorites):\n",
        "    print('One of my favorite desserts is', favorites[count]);\n",
        "    count += 1"
      ],
      "metadata": {
        "colab": {
          "base_uri": "https://localhost:8080/"
        },
        "id": "lt_UFJSvYhcb",
        "outputId": "51951914-f3f2-4308-8c65-5e0bee4010a5"
      },
      "execution_count": 1,
      "outputs": [
        {
          "output_type": "stream",
          "name": "stdout",
          "text": [
            "One of my favorite desserts is Churros\n",
            "One of my favorite desserts is Tiramisú\n",
            "One of my favorite desserts is Pudding\n"
          ]
        }
      ]
    },
    {
      "cell_type": "markdown",
      "source": [
        "###**Example**\n",
        "\n",
        "Calculate the growth of a bacterial colony using a simple exponential growth model, which is essentially a calculation of compound interest:\n",
        "\n",
        "P(t + 1) = P(t) + rP(t)\n",
        "\n",
        "In this formula, P(t) is the population size at time t and r is the growth rate.\n"
      ],
      "metadata": {
        "id": "R62WUU6VcDw-"
      }
    },
    {
      "cell_type": "code",
      "source": [
        "time = 0\n",
        "population = 1000 # 1000 bacteria to start with\n",
        "growth_rate = 0.21 # 21% growth per minute\n",
        "while population < 2000:\n",
        "  population = population + growth_rate * population\n",
        "  print(round(population))\n",
        "  time = time + 1\n",
        "print(\"It took\", time, \"minutes for the bacteria to double.\")\n",
        "print(\"The final population was\", round(population), \"bacteria.\")\n"
      ],
      "metadata": {
        "colab": {
          "base_uri": "https://localhost:8080/"
        },
        "id": "V2sOOLstcSK2",
        "outputId": "133055ec-3fd4-4c60-b2f0-808ffe24f085"
      },
      "execution_count": 3,
      "outputs": [
        {
          "output_type": "stream",
          "name": "stdout",
          "text": [
            "1210\n",
            "1464\n",
            "1772\n",
            "2144\n",
            "It took 4 minutes for the bacteria to double.\n",
            "The final population was 2144 bacteria.\n"
          ]
        }
      ]
    },
    {
      "cell_type": "markdown",
      "source": [
        "### **Examples - Infinite Loop**\n"
      ],
      "metadata": {
        "id": "eh2L4AuLccrt"
      }
    },
    {
      "cell_type": "code",
      "source": [
        "while True:  #constant condition\n",
        "    print(\"This is an infinite loop\")"
      ],
      "metadata": {
        "id": "KHh8xhW3c3XV"
      },
      "execution_count": null,
      "outputs": []
    },
    {
      "cell_type": "code",
      "source": [
        "count = 0\t# Incorrectly initialized variable\n",
        "while count < 10:\n",
        "    print(\"This loop will never exit\")"
      ],
      "metadata": {
        "id": "1xHnmG6gcjyU"
      },
      "execution_count": null,
      "outputs": []
    },
    {
      "cell_type": "code",
      "source": [
        "flag = True\t#flag that never change\n",
        "while flag:\n",
        "    print(\"This loop will run indefinitely\")"
      ],
      "metadata": {
        "id": "Te2Y39G8c6LA"
      },
      "execution_count": null,
      "outputs": []
    },
    {
      "cell_type": "code",
      "source": [
        "x = 5\n",
        "while x > 0:\n",
        "    print(\"This loop will run forever\")\n",
        "x = x - 1\n",
        "\n",
        "# Logical error: missing decrement in the loop, so x will never be less than or equal to 0"
      ],
      "metadata": {
        "id": "eCUY-6I6c9lu"
      },
      "execution_count": null,
      "outputs": []
    },
    {
      "cell_type": "markdown",
      "source": [
        "The preceding example used population < 2000 as a loop condition so that the loop stopped when the population reached double its initial size or more. What would happen if we stopped only when the population was exactly double its initial size?\n"
      ],
      "metadata": {
        "id": "wcLqDVQsdK6G"
      }
    },
    {
      "cell_type": "code",
      "source": [
        "# Use multivalued assignment to set up controls\n",
        "time, population, growth_rate = 0, 1000, 0.21\n",
        "\n",
        "# Don't stop until we're exactly double the original size\n",
        "while population != 2000:\n",
        "  population = population + growth_rate * population\n",
        "  print(round(population))\n",
        "  time = time + 1\n",
        "\n",
        "print(\"It took\", time, \"minutes for the bacteria to double.\")\n"
      ],
      "metadata": {
        "id": "BxfoloiIdNXs"
      },
      "execution_count": null,
      "outputs": []
    },
    {
      "cell_type": "markdown",
      "source": [
        "**`How to Avoid Infinite Loop ?`**\n",
        "\n",
        "* Use a clear and **appropriate loop condition**, such as while, for, or if, to specify when the loop should terminate.\n",
        "* Ensure that the loop **control variable** (e.g., index or counter) is properly updated inside the loop.\n",
        "* Consider using a **break** statement to exit the loop when a specific condition is met.\n",
        "* Be cautious with **while True** loops, and always provide a way to exit them, such as **user input** or a **time limit**.\n",
        "* Avoid **logic errors** that may inadvertently lead to infinite loops, like forgetting to update loop variables.\n",
        "\n",
        "\n"
      ],
      "metadata": {
        "id": "R6tRtRM_ddCX"
      }
    },
    {
      "cell_type": "markdown",
      "source": [
        "### **Example - Avoid Infinite Loop using Proper Condition, User Input & Break**\n"
      ],
      "metadata": {
        "id": "Oz9bAcnKeG3c"
      }
    },
    {
      "cell_type": "code",
      "source": [
        "text = \"\"\n",
        "while text != \"q\":\t\t\t\t\t\t\t\t\t\t# not use while True\n",
        "  text = input(\"Please enter a chemical formula (or 'q' to exit): \")\t# user input\n",
        "  if text == \"q\":\n",
        "    print(\"…exiting program\")\n",
        "    break\t\t\t\t\t\t\t\t\t\t\t# break\n",
        "  elif text == \"H2O\":\n",
        "    print(\"Water\")\n",
        "  elif text == \"NH3\":\n",
        "    print(\"Ammonia\")\n",
        "  elif text == \"CH4\":\n",
        "    print(\"Methane\")\n",
        "  else:\n",
        "    print(\"Unknown compound\")"
      ],
      "metadata": {
        "colab": {
          "base_uri": "https://localhost:8080/"
        },
        "id": "CQkBdAtLeEi2",
        "outputId": "f8960c37-3f94-456f-c3f1-61adfc0f2450"
      },
      "execution_count": 10,
      "outputs": [
        {
          "output_type": "stream",
          "name": "stdout",
          "text": [
            "Please enter a chemical formula (or 'q' to exit): H2O\n",
            "Water\n",
            "Please enter a chemical formula (or 'q' to exit): NH3\n",
            "Ammonia\n",
            "Please enter a chemical formula (or 'q' to exit): CH4\n",
            "Methane\n",
            "Please enter a chemical formula (or 'q' to exit): OKG\n",
            "Unknown compound\n",
            "Please enter a chemical formula (or 'q' to exit): q\n",
            "…exiting program\n"
          ]
        }
      ]
    }
  ]
}